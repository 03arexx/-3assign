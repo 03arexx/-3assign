{
 "cells": [
  {
   "cell_type": "markdown",
   "id": "07ea095e-0222-4105-8cd3-afa863e8a11f",
   "metadata": {},
   "source": [
    "Q1. Which keyword is used to create a function? Create a function to return a list of odd numbers in the \n",
    "range of 1 to 25."
   ]
  },
  {
   "cell_type": "markdown",
   "id": "2090523c-2404-4c4c-9db5-e89ac8abe44d",
   "metadata": {},
   "source": [
    "def keyword is used to create a function."
   ]
  },
  {
   "cell_type": "code",
   "execution_count": 2,
   "id": "6c52e9c9-8515-4220-b958-f1576d080056",
   "metadata": {},
   "outputs": [],
   "source": [
    "def odd_number():\n",
    "    l1=[]\n",
    "    for i in range (1,25):\n",
    "        if i%2!=0:\n",
    "            l1.append(i)\n",
    "    return l1      "
   ]
  },
  {
   "cell_type": "code",
   "execution_count": 3,
   "id": "6ad65d05-49fe-405e-a73f-3410024a36cb",
   "metadata": {},
   "outputs": [
    {
     "data": {
      "text/plain": [
       "[1, 3, 5, 7, 9, 11, 13, 15, 17, 19, 21, 23]"
      ]
     },
     "execution_count": 3,
     "metadata": {},
     "output_type": "execute_result"
    }
   ],
   "source": [
    "odd_number()"
   ]
  },
  {
   "cell_type": "markdown",
   "id": "43e6f0ec-a697-4056-adb7-8518a51651d4",
   "metadata": {},
   "source": [
    "2. Why *args and **kwargs is used in some functions? Create a function each for *args and **kwargs \n",
    "to demonstrate their use."
   ]
  },
  {
   "cell_type": "markdown",
   "id": "3433b8b9-4da2-4e4e-a5a7-dfcf9163993c",
   "metadata": {},
   "source": [
    "*args is used to pass a variable number of positional arguments to a function.\n",
    "It collects all the positional arguments into a tuple."
   ]
  },
  {
   "cell_type": "markdown",
   "id": "68d50c99-d096-4bb1-87f9-25775c48a104",
   "metadata": {},
   "source": [
    "**kwargs is used to pass a variable number of keyword arguments to a function.\n",
    "It collects all the keyword arguments into a dictionary."
   ]
  },
  {
   "cell_type": "code",
   "execution_count": 9,
   "id": "2edf4bdf-d929-43b3-bc65-0f3a421fa076",
   "metadata": {},
   "outputs": [],
   "source": [
    "def add(*args):\n",
    "    a=0\n",
    "    for i in args:\n",
    "        a+=i\n",
    "    return a    "
   ]
  },
  {
   "cell_type": "code",
   "execution_count": 10,
   "id": "b0359bb4-9e84-4061-94d9-a826a1005591",
   "metadata": {},
   "outputs": [
    {
     "data": {
      "text/plain": [
       "10"
      ]
     },
     "execution_count": 10,
     "metadata": {},
     "output_type": "execute_result"
    }
   ],
   "source": [
    "add(1,2,3,4)"
   ]
  },
  {
   "cell_type": "code",
   "execution_count": 11,
   "id": "82d56c8a-cf80-4c04-9e44-33a6bd443d07",
   "metadata": {},
   "outputs": [],
   "source": [
    "def print_kwargs(**kwargs):\n",
    "    for key, value in kwargs.items():\n",
    "        print(f\"{key}: {value}\")"
   ]
  },
  {
   "cell_type": "code",
   "execution_count": 13,
   "id": "426e42db-17ec-4464-9f79-cccd7c32b0b1",
   "metadata": {},
   "outputs": [
    {
     "name": "stdout",
     "output_type": "stream",
     "text": [
      "name: reshad\n",
      "age: 21\n"
     ]
    }
   ],
   "source": [
    "print_kwargs(name='reshad',age=21)"
   ]
  },
  {
   "cell_type": "raw",
   "id": "b85b132c-60a1-4159-8d6b-eb062a66bfe4",
   "metadata": {},
   "source": [
    "Q3.  What is an iterator in python? Name the method used to initialise the iterator object and the method \n",
    "used for iteration. Use these methods to print the first five elements of the given list [2, 4, 6, 8, 10, 12, 14, \n",
    "16, 18, 20]."
   ]
  },
  {
   "cell_type": "markdown",
   "id": "b65d66cf-5e41-469c-b6cb-f20ece132890",
   "metadata": {},
   "source": [
    "An iterator is an object that allows you to iterate  over a collection of elements, such as a list, tuple, dictionary, or any other iterable object. Iterators provide a way to access elements one at a time without the need to load the entire collection into memory. They are typically used in for loops.\n",
    "\n",
    "To create an iterator , you can use the iter() method, and to iterate through the elements of an iterator, you can use the next() method."
   ]
  },
  {
   "cell_type": "code",
   "execution_count": 3,
   "id": "36944bfb-db6f-4d82-bed5-231bdab28279",
   "metadata": {},
   "outputs": [
    {
     "name": "stdout",
     "output_type": "stream",
     "text": [
      "2\n",
      "4\n",
      "6\n",
      "8\n",
      "10\n"
     ]
    }
   ],
   "source": [
    "list=[2,4,6,8,10,12,14,16,18,20]\n",
    "for i in list:\n",
    "    print(i)\n",
    "    if i==10:\n",
    "        break;\n",
    "    \n",
    "    "
   ]
  },
  {
   "cell_type": "markdown",
   "id": "dc7623fb-1ee5-46cf-9d28-6b7571c8c1e5",
   "metadata": {},
   "source": [
    "Q4.  What is a generator function in python? Why yield keyword is used? Give an example of a generator \n",
    "function."
   ]
  },
  {
   "cell_type": "markdown",
   "id": "506d8022-4076-477f-9b8e-2af140e34426",
   "metadata": {},
   "source": [
    "A generator function is a special type of function that allows you to create iterators in a more concise and memory-efficient way compared to traditional iterators or lists. Generator functions use the yield keyword to produce a series of values one at a time, rather than creating and storing all the values in memory at once. This makes them particularly useful for working with large datasets or infinite sequences."
   ]
  },
  {
   "cell_type": "code",
   "execution_count": 6,
   "id": "de18fa1d-9ec5-4484-8db8-39916bdb3ea9",
   "metadata": {},
   "outputs": [],
   "source": [
    "def resg(n):\n",
    "    a,b=0,1\n",
    "    \n",
    "    for i in range(n):\n",
    "        yield b\n",
    "        a,b=b,a+b"
   ]
  },
  {
   "cell_type": "code",
   "execution_count": 8,
   "id": "52684633-6db6-4f44-8776-e8d934945e10",
   "metadata": {},
   "outputs": [
    {
     "name": "stdout",
     "output_type": "stream",
     "text": [
      "1\n",
      "1\n",
      "2\n",
      "3\n",
      "5\n",
      "8\n",
      "13\n",
      "21\n",
      "34\n",
      "55\n"
     ]
    }
   ],
   "source": [
    "for i in resg(10):\n",
    "    print(i)"
   ]
  },
  {
   "cell_type": "markdown",
   "id": "f6b06f44-1995-4fb6-be4a-f1b0c89ecfcd",
   "metadata": {},
   "source": [
    "Q5. Create a generator function for prime numbers less than 1000. Use the next() method to print the \n",
    "first 20 prime numbers."
   ]
  },
  {
   "cell_type": "code",
   "execution_count": 20,
   "id": "319cf3a9-3b11-49d4-960e-a31d3496e4e8",
   "metadata": {},
   "outputs": [
    {
     "name": "stdout",
     "output_type": "stream",
     "text": [
      "2\n",
      "3\n",
      "5\n",
      "7\n",
      "11\n",
      "13\n",
      "17\n",
      "19\n",
      "23\n",
      "29\n",
      "31\n",
      "37\n",
      "41\n",
      "43\n",
      "47\n",
      "53\n",
      "59\n",
      "61\n",
      "67\n",
      "71\n"
     ]
    }
   ],
   "source": [
    "def is_prime(num):\n",
    "    if num <= 1:\n",
    "        return False\n",
    "    if num <= 3:\n",
    "        return True\n",
    "    if num % 2 == 0 or num % 3 == 0:\n",
    "        return False\n",
    "    i = 5\n",
    "    while i * i <= num:\n",
    "        if num % i == 0 or num % (i + 2) == 0:\n",
    "            return False\n",
    "        i += 6\n",
    "    return True\n",
    "\n",
    "def prime_generator():\n",
    "    num = 2\n",
    "    count = 0\n",
    "    while count < 20:\n",
    "        if is_prime(num):\n",
    "            yield num\n",
    "            count += 1\n",
    "        num += 1\n",
    "\n",
    "# Create a prime number generator\n",
    "prime_gen = prime_generator()\n",
    "\n",
    "# Use the next() method to print the first 20 prime numbers\n",
    "for _ in range(20):\n",
    "    prime = next(prime_gen)\n",
    "    print(prime)\n"
   ]
  },
  {
   "cell_type": "markdown",
   "id": "7e64aa83-2272-4d51-a61f-6add79447e08",
   "metadata": {},
   "source": [
    "Q6. Write a python program to print the first 10 Fibonacci numbers using a while loop."
   ]
  },
  {
   "cell_type": "code",
   "execution_count": 1,
   "id": "1df29242-aff4-4c68-bd0d-605e269fb955",
   "metadata": {},
   "outputs": [
    {
     "name": "stdout",
     "output_type": "stream",
     "text": [
      "1 2 3 5 8 13 21 34 55 89 \n"
     ]
    }
   ],
   "source": [
    "n = 10\n",
    "num1 = 0\n",
    "num2 = 1\n",
    "next_number = num2\n",
    "count = 1\n",
    "\n",
    "while count <= n:\n",
    "\tprint(next_number, end=\" \")\n",
    "\tcount += 1\n",
    "\tnum1, num2 = num2, next_number\n",
    "\tnext_number = num1 + num2\n",
    "print()\n"
   ]
  },
  {
   "cell_type": "markdown",
   "id": "06a0061f-1e77-4cf0-a356-6bdf70567a59",
   "metadata": {},
   "source": [
    "Q7. Write a List Comprehension to iterate through the given string: ‘pwskills’.\n",
    "\n",
    "Expected output: ['p', 'w', 's', 'k', 'i', 'l', 'l', 's'] "
   ]
  },
  {
   "cell_type": "code",
   "execution_count": 3,
   "id": "6f9b012e-ef4e-4b2f-8f0e-8686e1931097",
   "metadata": {},
   "outputs": [],
   "source": [
    "s='pwskills'"
   ]
  },
  {
   "cell_type": "code",
   "execution_count": 7,
   "id": "87ef3188-2fb8-448b-bd06-ac9783168489",
   "metadata": {},
   "outputs": [
    {
     "data": {
      "text/plain": [
       "\"['p', 'w', 's', 'k', 'i', 'l', 'l', 's']\""
      ]
     },
     "execution_count": 7,
     "metadata": {},
     "output_type": "execute_result"
    }
   ],
   "source": [
    "str(list(map(lambda s:s.lower(),s)))"
   ]
  },
  {
   "cell_type": "markdown",
   "id": "cad9d7ec-5fef-479b-a276-63f21b5f1725",
   "metadata": {},
   "source": [
    "Q8. Write a python program to check whether a given number is Palindrome or not using a while loop."
   ]
  },
  {
   "cell_type": "code",
   "execution_count": 8,
   "id": "395753a3-9966-42c2-91ee-1b4eb04eeddb",
   "metadata": {},
   "outputs": [
    {
     "name": "stdin",
     "output_type": "stream",
     "text": [
      "Enter a number:  234\n"
     ]
    },
    {
     "name": "stdout",
     "output_type": "stream",
     "text": [
      "234 is not a palindrome.\n"
     ]
    }
   ],
   "source": [
    "\n",
    "num = int(input(\"Enter a number: \"))\n",
    "\n",
    "original_num = num\n",
    "\n",
    "reverse_num = 0\n",
    "while num > 0:\n",
    "    \n",
    "    digit = num % 10\n",
    "    reverse_num = reverse_num * 10 + digit\n",
    "    num = num // 10\n",
    "\n",
    "\n",
    "if original_num == reverse_num:\n",
    "    print(f\"{original_num} is a palindrome.\")\n",
    "else:\n",
    "    print(f\"{original_num} is not a palindrome.\")\n"
   ]
  },
  {
   "cell_type": "markdown",
   "id": "5114507f-a816-47a1-8bd5-7c6a6214e66e",
   "metadata": {},
   "source": [
    "Q9. Write a code to print odd numbers from 1 to 100 using list comprehension"
   ]
  },
  {
   "cell_type": "code",
   "execution_count": 15,
   "id": "fe059a19-dcbf-42ba-965a-52d4ee1a114a",
   "metadata": {},
   "outputs": [
    {
     "ename": "SyntaxError",
     "evalue": "'return' outside function (2790527461.py, line 5)",
     "output_type": "error",
     "traceback": [
      "\u001b[0;36m  Cell \u001b[0;32mIn[15], line 5\u001b[0;36m\u001b[0m\n\u001b[0;31m    return l1\u001b[0m\n\u001b[0m    ^\u001b[0m\n\u001b[0;31mSyntaxError\u001b[0m\u001b[0;31m:\u001b[0m 'return' outside function\n"
     ]
    }
   ],
   "source": [
    "for i in range(1,100):\n",
    "    l1=[]\n",
    "    if i%2!=0:\n",
    "        l1.append(i)\n",
    "    return l1"
   ]
  },
  {
   "cell_type": "code",
   "execution_count": null,
   "id": "13c5e2ac-3a73-41fc-b61e-d0d10eb5526f",
   "metadata": {},
   "outputs": [],
   "source": []
  }
 ],
 "metadata": {
  "kernelspec": {
   "display_name": "Python 3 (ipykernel)",
   "language": "python",
   "name": "python3"
  },
  "language_info": {
   "codemirror_mode": {
    "name": "ipython",
    "version": 3
   },
   "file_extension": ".py",
   "mimetype": "text/x-python",
   "name": "python",
   "nbconvert_exporter": "python",
   "pygments_lexer": "ipython3",
   "version": "3.10.8"
  }
 },
 "nbformat": 4,
 "nbformat_minor": 5
}
